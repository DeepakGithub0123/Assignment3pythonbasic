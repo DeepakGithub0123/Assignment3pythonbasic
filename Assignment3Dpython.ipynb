{
 "cells": [
  {
   "cell_type": "code",
   "execution_count": 1,
   "id": "8a69afb3",
   "metadata": {},
   "outputs": [],
   "source": [
    "#1. Why are functions advantageous to have in your programs?\n",
    "#Ans =  Functions reduce the need for duplicate code. This makes programs shorter, easier to read, and easier to update. \n",
    "#The main advantage of functions is code Reusability."
   ]
  },
  {
   "cell_type": "code",
   "execution_count": 2,
   "id": "868ef018",
   "metadata": {},
   "outputs": [],
   "source": [
    "#2. When does the code in a function run: when it's specified or when it's called?\n",
    "# Ans = The code in a function executes when the function is called, not when the function is specified."
   ]
  },
  {
   "cell_type": "code",
   "execution_count": 3,
   "id": "dde36206",
   "metadata": {},
   "outputs": [],
   "source": [
    "#3. what statement creates a function?\n",
    "#Ans = The \"def\" statement defines a function."
   ]
  },
  {
   "cell_type": "code",
   "execution_count": 4,
   "id": "62c399c3",
   "metadata": {},
   "outputs": [],
   "source": [
    "#4. What is the difference between a function and a function call?\n",
    "#Ans = A function is procedure to a particular result, \n",
    "#while funtion call is using this function to achieve that task, \n",
    "# Using a function to do particular task any point in program is called  as function call."
   ]
  },
  {
   "cell_type": "code",
   "execution_count": 5,
   "id": "7f442ec6",
   "metadata": {},
   "outputs": [],
   "source": [
    "#5. How many global scopes are there in a Python program? How many local scopes?\n",
    "#Ans = There is one global scope, and a local scopes is created whenever a function is called."
   ]
  },
  {
   "cell_type": "code",
   "execution_count": 6,
   "id": "4e70a6ec",
   "metadata": {},
   "outputs": [],
   "source": [
    "#6. What happens to variables in a local scope when the function call returns?\n",
    "#Ans = When a function returns, the local scope is destroyed, and all the variable in it are forgetten."
   ]
  },
  {
   "cell_type": "code",
   "execution_count": 7,
   "id": "1b9263f8",
   "metadata": {},
   "outputs": [],
   "source": [
    "#7. What is the concept of a return value? Is it possible to have a return value in an expression?\n",
    "#Ans =  A return value is the value that a function call evaluates to.\n",
    "# Like any value, a return value can be used as part of an expression."
   ]
  },
  {
   "cell_type": "code",
   "execution_count": 8,
   "id": "e1f98af4",
   "metadata": {},
   "outputs": [],
   "source": [
    "#8. If a function does not have a return statement, what is the return value of a call to that function?\n",
    "#Ans = If there is no return statement for a function, its return value is None."
   ]
  },
  {
   "cell_type": "code",
   "execution_count": 9,
   "id": "1f0867a9",
   "metadata": {},
   "outputs": [],
   "source": [
    "#9. How do you make a function variable refer to the global variable?\n",
    "#Ans = A global statement will force a variable in a function to refer to the global variable.\n",
    "#If you want to refer to a global variable in a function,\n",
    "#you can use the global keyword to declare which variables are global."
   ]
  },
  {
   "cell_type": "code",
   "execution_count": 10,
   "id": "5fc05a1c",
   "metadata": {},
   "outputs": [],
   "source": [
    "#10. What is the data type of None?\n",
    "#Ans = The data type of None is NoneType."
   ]
  },
  {
   "cell_type": "code",
   "execution_count": 11,
   "id": "b6bc2669",
   "metadata": {},
   "outputs": [],
   "source": [
    "#11. What does the sentence import areallyourpetsnamederic do?\n",
    "#Ans =  That import statement imports a module named areallyourpetsnamederic."
   ]
  },
  {
   "cell_type": "code",
   "execution_count": 12,
   "id": "fd381213",
   "metadata": {},
   "outputs": [],
   "source": [
    "#12. If you had a bacon() feature in a spam module, what would you call it after importing spam?\n",
    "#Ans = This function can be called with spam.bacon()."
   ]
  },
  {
   "cell_type": "code",
   "execution_count": 13,
   "id": "22a7996d",
   "metadata": {},
   "outputs": [],
   "source": [
    "#13. What can you do to save a programme from crashing if it encounters an error?\n",
    "#Ans = Place the line of code that might cause an error in a try clause and use except block to handle the error."
   ]
  },
  {
   "cell_type": "code",
   "execution_count": 14,
   "id": "ec14c56c",
   "metadata": {},
   "outputs": [],
   "source": [
    "#14. What is the purpose of the try clause? What is the purpose of the except clause?\n",
    "#Ans = The code that could potentially cause an error goes in the try clause. \n",
    "#The code that executes if an error happens goes in the except clause."
   ]
  },
  {
   "cell_type": "code",
   "execution_count": null,
   "id": "d650c630",
   "metadata": {},
   "outputs": [],
   "source": []
  }
 ],
 "metadata": {
  "kernelspec": {
   "display_name": "Python 3 (ipykernel)",
   "language": "python",
   "name": "python3"
  },
  "language_info": {
   "codemirror_mode": {
    "name": "ipython",
    "version": 3
   },
   "file_extension": ".py",
   "mimetype": "text/x-python",
   "name": "python",
   "nbconvert_exporter": "python",
   "pygments_lexer": "ipython3",
   "version": "3.9.7"
  }
 },
 "nbformat": 4,
 "nbformat_minor": 5
}
